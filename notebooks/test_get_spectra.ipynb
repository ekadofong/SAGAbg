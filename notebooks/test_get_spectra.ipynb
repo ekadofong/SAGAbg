{
 "cells": [
  {
   "cell_type": "code",
   "execution_count": 2,
   "metadata": {},
   "outputs": [],
   "source": [
    "%load_ext autoreload\n",
    "%autoreload 2"
   ]
  },
  {
   "cell_type": "code",
   "execution_count": 14,
   "metadata": {},
   "outputs": [],
   "source": [
    "import numpy as np\n",
    "import os\n",
    "import pandas as pd\n",
    "from astropy.io import ascii\n",
    "from astropy import table\n",
    "\n",
    "from astropy import cosmology\n",
    "from astropy.table import Table\n",
    "from astropy.io import fits\n",
    "import matplotlib.pyplot as plt\n",
    "\n",
    "import SAGA  \n",
    "from SAGA import ObjectCuts as C\n",
    "\n",
    "from easyquery import QueryMaker\n",
    "from easyquery import Query\n",
    "from SAGA.database import FitsTable \n",
    "\n",
    "from SAGAbg.utils import calc_kcor\n",
    "from SAGAbg import SAGA_get_spectra\n",
    "import namer\n",
    "\n",
    "import sys\n",
    "sys.path.append('../scripts/')\n",
    "import find_oiii4363"
   ]
  },
  {
   "cell_type": "code",
   "execution_count": 4,
   "metadata": {},
   "outputs": [],
   "source": [
    "import os"
   ]
  },
  {
   "cell_type": "code",
   "execution_count": 5,
   "metadata": {},
   "outputs": [
    {
     "name": "stdout",
     "output_type": "stream",
     "text": [
      "SAGA `shared_dir` set to /Users/kadofong/DropBox/SAGA/\n",
      "SAGA `local_dir`  set to ../local_data/\n"
     ]
    }
   ],
   "source": [
    "# SET UP SAGA STUFF\n",
    "dropbox_directory = '/Users/kadofong/DropBox/SAGA/'\n",
    "saga = SAGA.QuickStart(local_dir='../local_data/',\\\n",
    "                       shared_dir=dropbox_directory)\n",
    "\n",
    "#hostlist     = saga.host_catalog.load(include_stats='remote',query='good')\n"
   ]
  },
  {
   "cell_type": "code",
   "execution_count": 6,
   "metadata": {},
   "outputs": [],
   "source": [
    "names = np.genfromtxt('../local_data/naming/names.txt', dtype=str)\n",
    "\n",
    "saga.database[\"combined_base\"].remote.path = \"https://drive.google.com/uc?export=download&id=1WnGUfDCZwXEUsy4zgGFR1ez3ZE5DFtsB&confirm=t&uuid=d0f82ed0-6db5-4ca0-bb8f-6c54d44a17db\"\n",
    "saga.database[\"combined_base\"].download(overwrite=False)\n",
    "\n",
    "base = saga.object_catalog.load_combined_base_catalog()\n",
    "base['wordid'] = names[:,1]\n",
    "#base = saga.host_catalog.construct_host_query(\"paper3\").filter(base)\n",
    "\n",
    "cleaner = (base['REMOVE']==0)&base['is_galaxy']&(base['g_mag']<30.)&(base['r_mag']<30.)#&(base['ZQUALITY']>=3)\n",
    "clean = base[cleaner].copy()\n",
    "\n",
    "clean['selection'] = 0\n",
    "cuts = SAGA.objects.cuts\n",
    "SAGA.utils.fill_values_by_query(clean, cuts.main_targeting_cuts, {'selection':3})\n",
    "SAGA.utils.fill_values_by_query(clean, cuts.paper1_targeting_cut&~cuts.main_targeting_cuts, {'selection':2})\n",
    "SAGA.utils.fill_values_by_query(clean, ~cuts.main_targeting_cuts&~cuts.paper1_targeting_cut, {'selection':1})\n",
    "#clean = clean.to_pandas ()\n",
    "\n",
    "clean.add_index('wordid')"
   ]
  },
  {
   "cell_type": "code",
   "execution_count": 409,
   "metadata": {},
   "outputs": [],
   "source": [
    "line_df = pd.read_csv('../local_data/scratch/line_df.csv', index_col=0)"
   ]
  },
  {
   "cell_type": "code",
   "execution_count": 410,
   "metadata": {},
   "outputs": [],
   "source": [
    "first_objects = clean[(clean['selection']==3)&(clean['ZQUALITY']>=3)&((clean['TELNAME']=='AAT')|(clean['TELNAME']=='MMT'))]\n",
    "all_the_good_spectra = clean[(clean['ZQUALITY']>=3)&((clean['TELNAME']=='AAT')|(clean['TELNAME']=='MMT'))]"
   ]
  },
  {
   "cell_type": "code",
   "execution_count": 411,
   "metadata": {},
   "outputs": [],
   "source": [
    "ok = ['hurdle_dam','upkeep_transposed','deluging_trophy', 'evolutionary_thebes']"
   ]
  },
  {
   "cell_type": "code",
   "execution_count": 414,
   "metadata": {},
   "outputs": [
    {
     "name": "stdout",
     "output_type": "stream",
     "text": [
      "236\n"
     ]
    }
   ],
   "source": [
    "detmask = line_df['OIII4363']/line_df['u_OIII4363'] > 1.\n",
    "detmask &= line_df['OIII4363'] > 5.\n",
    "detections = line_df.loc[detmask]\n",
    "print(detections.shape[0])"
   ]
  },
  {
   "cell_type": "code",
   "execution_count": 415,
   "metadata": {},
   "outputs": [
    {
     "data": {
      "text/html": [
       "<div>\n",
       "<style scoped>\n",
       "    .dataframe tbody tr th:only-of-type {\n",
       "        vertical-align: middle;\n",
       "    }\n",
       "\n",
       "    .dataframe tbody tr th {\n",
       "        vertical-align: top;\n",
       "    }\n",
       "\n",
       "    .dataframe thead th {\n",
       "        text-align: right;\n",
       "    }\n",
       "</style>\n",
       "<table border=\"1\" class=\"dataframe\">\n",
       "  <thead>\n",
       "    <tr style=\"text-align: right;\">\n",
       "      <th></th>\n",
       "      <th>Halpha</th>\n",
       "      <th>u_Halpha</th>\n",
       "      <th>OIII4363</th>\n",
       "      <th>u_OIII4363</th>\n",
       "      <th>Hbeta</th>\n",
       "      <th>u_Hbeta</th>\n",
       "    </tr>\n",
       "  </thead>\n",
       "  <tbody>\n",
       "    <tr>\n",
       "      <th>juggler_wryly</th>\n",
       "      <td>26.892069</td>\n",
       "      <td>5.247537</td>\n",
       "      <td>5.014920</td>\n",
       "      <td>3.880050</td>\n",
       "      <td>4.837591</td>\n",
       "      <td>8.831235</td>\n",
       "    </tr>\n",
       "    <tr>\n",
       "      <th>prodigies_mortgagor</th>\n",
       "      <td>39.680229</td>\n",
       "      <td>26.534864</td>\n",
       "      <td>10.415105</td>\n",
       "      <td>10.396842</td>\n",
       "      <td>4.113506</td>\n",
       "      <td>15.790115</td>\n",
       "    </tr>\n",
       "    <tr>\n",
       "      <th>depositary_bedsore</th>\n",
       "      <td>41.726742</td>\n",
       "      <td>20.923202</td>\n",
       "      <td>9.864976</td>\n",
       "      <td>8.951556</td>\n",
       "      <td>8.849380</td>\n",
       "      <td>24.441547</td>\n",
       "    </tr>\n",
       "    <tr>\n",
       "      <th>fulfils_participative</th>\n",
       "      <td>6.827558</td>\n",
       "      <td>5.280638</td>\n",
       "      <td>6.673813</td>\n",
       "      <td>3.709941</td>\n",
       "      <td>-0.945034</td>\n",
       "      <td>7.273046</td>\n",
       "    </tr>\n",
       "    <tr>\n",
       "      <th>speck_backbenchers</th>\n",
       "      <td>18.330449</td>\n",
       "      <td>5.037300</td>\n",
       "      <td>6.434725</td>\n",
       "      <td>5.092802</td>\n",
       "      <td>0.820331</td>\n",
       "      <td>0.510643</td>\n",
       "    </tr>\n",
       "    <tr>\n",
       "      <th>...</th>\n",
       "      <td>...</td>\n",
       "      <td>...</td>\n",
       "      <td>...</td>\n",
       "      <td>...</td>\n",
       "      <td>...</td>\n",
       "      <td>...</td>\n",
       "    </tr>\n",
       "    <tr>\n",
       "      <th>refillable_beagle</th>\n",
       "      <td>8.987208</td>\n",
       "      <td>0.978894</td>\n",
       "      <td>7.666843</td>\n",
       "      <td>6.597962</td>\n",
       "      <td>1.224646</td>\n",
       "      <td>1.258541</td>\n",
       "    </tr>\n",
       "    <tr>\n",
       "      <th>exhibition_intransitive</th>\n",
       "      <td>7.768198</td>\n",
       "      <td>3.008283</td>\n",
       "      <td>6.796633</td>\n",
       "      <td>4.575639</td>\n",
       "      <td>10.775409</td>\n",
       "      <td>10.740941</td>\n",
       "    </tr>\n",
       "    <tr>\n",
       "      <th>foxed_bracket</th>\n",
       "      <td>20.749517</td>\n",
       "      <td>2.423726</td>\n",
       "      <td>6.206108</td>\n",
       "      <td>5.488575</td>\n",
       "      <td>2.800229</td>\n",
       "      <td>1.104940</td>\n",
       "    </tr>\n",
       "    <tr>\n",
       "      <th>stimulation_administrating</th>\n",
       "      <td>32.239462</td>\n",
       "      <td>13.937261</td>\n",
       "      <td>5.987821</td>\n",
       "      <td>3.386899</td>\n",
       "      <td>3.953588</td>\n",
       "      <td>1.185165</td>\n",
       "    </tr>\n",
       "    <tr>\n",
       "      <th>exportable_laboratory</th>\n",
       "      <td>90.116594</td>\n",
       "      <td>84.045661</td>\n",
       "      <td>5.475240</td>\n",
       "      <td>2.413173</td>\n",
       "      <td>6.781705</td>\n",
       "      <td>1.979322</td>\n",
       "    </tr>\n",
       "  </tbody>\n",
       "</table>\n",
       "<p>236 rows × 6 columns</p>\n",
       "</div>"
      ],
      "text/plain": [
       "                               Halpha   u_Halpha   OIII4363  u_OIII4363  \\\n",
       "juggler_wryly               26.892069   5.247537   5.014920    3.880050   \n",
       "prodigies_mortgagor         39.680229  26.534864  10.415105   10.396842   \n",
       "depositary_bedsore          41.726742  20.923202   9.864976    8.951556   \n",
       "fulfils_participative        6.827558   5.280638   6.673813    3.709941   \n",
       "speck_backbenchers          18.330449   5.037300   6.434725    5.092802   \n",
       "...                               ...        ...        ...         ...   \n",
       "refillable_beagle            8.987208   0.978894   7.666843    6.597962   \n",
       "exhibition_intransitive      7.768198   3.008283   6.796633    4.575639   \n",
       "foxed_bracket               20.749517   2.423726   6.206108    5.488575   \n",
       "stimulation_administrating  32.239462  13.937261   5.987821    3.386899   \n",
       "exportable_laboratory       90.116594  84.045661   5.475240    2.413173   \n",
       "\n",
       "                                Hbeta    u_Hbeta  \n",
       "juggler_wryly                4.837591   8.831235  \n",
       "prodigies_mortgagor          4.113506  15.790115  \n",
       "depositary_bedsore           8.849380  24.441547  \n",
       "fulfils_participative       -0.945034   7.273046  \n",
       "speck_backbenchers           0.820331   0.510643  \n",
       "...                               ...        ...  \n",
       "refillable_beagle            1.224646   1.258541  \n",
       "exhibition_intransitive     10.775409  10.740941  \n",
       "foxed_bracket                2.800229   1.104940  \n",
       "stimulation_administrating   3.953588   1.185165  \n",
       "exportable_laboratory        6.781705   1.979322  \n",
       "\n",
       "[236 rows x 6 columns]"
      ]
     },
     "execution_count": 415,
     "metadata": {},
     "output_type": "execute_result"
    }
   ],
   "source": [
    "detections"
   ]
  },
  {
   "cell_type": "code",
   "execution_count": 416,
   "metadata": {},
   "outputs": [
    {
     "data": {
      "text/plain": [
       "1.001756617111748"
      ]
     },
     "execution_count": 416,
     "metadata": {},
     "output_type": "execute_result"
    }
   ],
   "source": [
    "(line_df['OIII4363']/line_df['u_OIII4363']).loc['prodigies_mortgagor']"
   ]
  },
  {
   "cell_type": "code",
   "execution_count": 420,
   "metadata": {},
   "outputs": [],
   "source": [
    "obj = clean.loc['upkeep_transposed']"
   ]
  },
  {
   "cell_type": "code",
   "execution_count": 421,
   "metadata": {},
   "outputs": [
    {
     "data": {
      "image/png": "[encoded data removed]",
      "text/plain": [
       "<Figure size 2000x400 with 4 Axes>"
      ]
     },
     "metadata": {},
     "output_type": "display_data"
    }
   ],
   "source": [
    "flux, wave, ivar, flag = SAGA_get_spectra.saga_get_spectrum(obj, dropbox_directory)\n",
    "#binned_flux = flux.reshape(-1,2).mean(axis=1)\n",
    "#binned_wv = wave.reshape(-1,2).mean(axis=1)\n",
    "\n",
    "restwv = wave/(1.+obj['SPEC_Z'])\n",
    "objname = obj['wordid']\n",
    "axorder = {'OIII4363':0, 'Hbeta':1, \"Halpha\":2}\n",
    "delta =100.\n",
    "\n",
    "fig = plt.figure ( figsize=(20,4))\n",
    "\n",
    "shape = (2,3)\n",
    "ax_prince = plt.subplot2grid ( shape, (0,0), colspan = 3 )\n",
    "line_axes = [ plt.subplot2grid(shape, (1,idx)) for idx in range(3) ]\n",
    "axarr = [ax_prince] + line_axes\n",
    "ylim = np.nanquantile(flux[(restwv>3700.)&(restwv<=7000.)], [0.01, 1.])\n",
    "ylim[1] = ylim[1] * 1.1\n",
    "for ax in axarr:\n",
    "    ax.plot(restwv,flux,color='k')    \n",
    "    ax.plot(restwv, ivar**.5, color='lightgrey')\n",
    "    #ax.plot(binned_wv/(1.+obj['SPEC_Z']), binned_flux, color='k')\n",
    "for key in line_wavelengths:   \n",
    "    ax = axarr[axorder[key]+1]\n",
    "    ax_prince.axvline(line_wavelengths[key], color='tab:red', zorder=0)\n",
    "    ax.axvline(line_wavelengths[key], color='tab:red', zorder=0)\n",
    "    ax.axvspan ( line_wavelengths[key]-fake_nbwidth/2., line_wavelengths[key]+fake_nbwidth/2., \n",
    "                color='pink', alpha=0.5 )\n",
    "    ax.axvspan ( cont_wavelengths[key]-fake_nbwidth/2., cont_wavelengths[key]+fake_nbwidth/2., \n",
    "                color='lightblue', alpha=0.5 )        \n",
    "    ymax = np.nanquantile(flux[abs((restwv) - line_wavelengths[key]) <= (2.*delta)], 1.) * 1.2\n",
    "    ax.set_ylim(ylim[0], ymax)\n",
    "delta = 100.        \n",
    "axarr[1].set_xlim(line_wavelengths['OIII4363'] - delta, line_wavelengths['OIII4363'] + delta )\n",
    "axarr[2].set_xlim(line_wavelengths['Hbeta'] - delta, line_wavelengths['Hbeta'] + delta )\n",
    "axarr[3].set_xlim(line_wavelengths['Halpha'] - delta, line_wavelengths['Halpha'] + delta )\n",
    "ax_prince.text ( 0.01, 0.95, f'{objname} z={obj[\"SPEC_Z\"]:.3f}', transform=ax_prince.transAxes, \n",
    "                ha='left', va='top')\n",
    "\n",
    "ax_prince.set_xlim(3700.,7000.)\n",
    "plt.tight_layout ()"
   ]
  },
  {
   "cell_type": "code",
   "execution_count": 419,
   "metadata": {
    "tags": []
   },
   "outputs": [],
   "source": [
    "#line_wavelengths = {'Halpha':6563.,'OIII4363':4363., 'Hbeta':4861., 'OIII5007':5007}\n",
    "delta = 200\n",
    "\n",
    "for name,row in detections.iterrows():\n",
    "    obj = clean.loc[name]\n",
    "    if isinstance(obj, table.Table):\n",
    "        obj = obj[0]\n",
    "        \n",
    "    flux, wave, ivar, flag = SAGA_get_spectra.saga_get_spectrum(obj, dropbox_directory)\n",
    "    #binned_flux = flux.reshape(-1,2).mean(axis=1)\n",
    "    #binned_wv = wave.reshape(-1,2).mean(axis=1)\n",
    "\n",
    "    restwv = wave/(1.+obj['SPEC_Z'])\n",
    "    objname = obj['OBJID']\n",
    "    axorder = {'OIII4363':0, 'Hbeta':1, \"Halpha\":2}\n",
    "    figname = f'../figures/exploration/spectra/spectrum_{name}.png'\n",
    "\n",
    "\n",
    "    fig = plt.figure ( figsize=(20,4))\n",
    "    shape = (2,3)\n",
    "    ax_prince = plt.subplot2grid ( shape, (0,0), colspan = 3 )\n",
    "    line_axes = [ plt.subplot2grid(shape, (1,idx)) for idx in range(3) ]\n",
    "    axarr = [ax_prince] + line_axes\n",
    "    ylim = np.nanquantile(flux[(restwv>3700.)&(restwv<=7000.)], [0.01, 1.])\n",
    "    ylim[1] = ylim[1] * 1.1\n",
    "    for ax in axarr:\n",
    "        ax.plot(restwv,flux,color='k')    \n",
    "        #ax.plot(binned_wv/(1.+obj['SPEC_Z']), binned_flux, color='k')\n",
    "    for key in line_wavelengths:   \n",
    "        ax = axarr[axorder[key]+1]\n",
    "        ax_prince.axvline(line_wavelengths[key], color='tab:red', zorder=0)\n",
    "        ax.axvline(line_wavelengths[key], color='tab:red', zorder=0)\n",
    "        ax.axvspan ( line_wavelengths[key]-fake_nbwidth/2., line_wavelengths[key]+fake_nbwidth/2., color='pink', alpha=0.5 )\n",
    "        ax.axvspan ( cont_wavelengths[key]-fake_nbwidth/2., cont_wavelengths[key]+fake_nbwidth/2., color='lightblue', alpha=0.5 )        \n",
    "        ymax = np.nanquantile(flux[abs((restwv) - line_wavelengths[key]) <= (2.*delta)], 1.) * 1.2\n",
    "        ax.text ( 0.025, 0.95, f'key: {line_df.loc[name, key]:.1f}', ha='left', va='top', transform=ax.transAxes )\n",
    "        ax.set_ylim(ylim[0], ymax)\n",
    "    #delta = 100.        \n",
    "    axarr[1].set_xlim(line_wavelengths['OIII4363'] - delta, line_wavelengths['OIII4363'] + delta )\n",
    "    axarr[2].set_xlim(line_wavelengths['Hbeta'] - delta, line_wavelengths['Hbeta'] + delta )\n",
    "    axarr[3].set_xlim(line_wavelengths['Halpha'] - delta, line_wavelengths['Halpha'] + delta )\n",
    "    ax_prince.text ( 0.01, 0.95, f'{name} z={obj[\"SPEC_Z\"]:.3f}', transform=ax_prince.transAxes, ha='left', va='top')\n",
    "\n",
    "    ax_prince.set_xlim(3700.,7000.)\n",
    "    plt.tight_layout ()\n",
    "    \n",
    "    plt.savefig(figname)\n",
    "    plt.close ()\n"
   ]
  },
  {
   "cell_type": "code",
   "execution_count": 28,
   "metadata": {},
   "outputs": [
    {
     "name": "stderr",
     "output_type": "stream",
     "text": [
      "/Users/kadofong/opt/miniconda3/envs/vanilla/lib/python3.10/site-packages/astropy/cosmology/flrw/lambdacdm.py:347: RuntimeWarning: divide by zero encountered in true_divide\n",
      "  self._T_hypergeometric(s / (z2 + 1.0)))\n",
      "/Users/kadofong/opt/miniconda3/envs/vanilla/lib/python3.10/site-packages/astropy/cosmology/flrw/lambdacdm.py:369: RuntimeWarning: invalid value encountered in multiply\n",
      "  return 2 * np.sqrt(x) * hyp2f1(1./6, 1./2, 7./6, -x**3)\n"
     ]
    }
   ],
   "source": [
    "kcorrect = calc_kcor.calc_kcor\n",
    "\n",
    "distmod = cosmo.distmod(clean['SPEC_Z']).value\n",
    "real_kcorrect_g = kcorrect ( 'g', clean['SPEC_Z'],'gr', clean['gr'])\n",
    "clean['Mg'] = clean['g_mag'] - distmod - real_kcorrect_g \n",
    "clean[\"Kg\"] = real_kcorrect_g\n",
    "real_kcorrect_r = kcorrect ( 'r', clean['SPEC_Z'], 'gr', clean['gr'])\n",
    "clean['Mr'] = clean['r_mag'] - distmod - real_kcorrect_r\n",
    "clean[\"Kr\"] = real_kcorrect_r\n",
    "real_kcorrect_z = kcorrect ( 'z', clean['SPEC_Z'], 'rz', clean['rz'])\n",
    "clean['Mz'] = clean['z_mag'] - distmod - real_kcorrect_z \n",
    "clean[\"Kz\"] = real_kcorrect_z\n",
    "\n",
    "logml = 1.65 * (clean['Mg']-clean['Mr']) - 0.66\n",
    "clean['cm_logmstar'] = logml + (clean['Mg']-5.11)/-2.5"
   ]
  },
  {
   "cell_type": "code",
   "execution_count": 31,
   "metadata": {},
   "outputs": [
    {
     "data": {
      "text/plain": [
       "11.001273089278882"
      ]
     },
     "execution_count": 31,
     "metadata": {},
     "output_type": "execute_result"
    }
   ],
   "source": [
    "clean.loc['hurdle_dam']['cm_logmstar']"
   ]
  },
  {
   "cell_type": "code",
   "execution_count": 32,
   "metadata": {},
   "outputs": [],
   "source": [
    "tentative_detections = line_df.query('(OIII4363>1.)&(Halpha>10.)')"
   ]
  },
  {
   "cell_type": "code",
   "execution_count": 48,
   "metadata": {},
   "outputs": [],
   "source": [
    "df = clean.to_pandas()#.set_index('wordid')"
   ]
  },
  {
   "cell_type": "code",
   "execution_count": 55,
   "metadata": {},
   "outputs": [
    {
     "data": {
      "text/plain": [
       "(-10.0, -24.0)"
      ]
     },
     "execution_count": 55,
     "metadata": {},
     "output_type": "execute_result"
    },
    {
     "data": {
      "image/png": "[encoded data removed]",
      "text/plain": [
       "<Figure size 640x480 with 1 Axes>"
      ]
     },
     "metadata": {},
     "output_type": "display_data"
    }
   ],
   "source": [
    "plt.scatter ( first_objects['SPEC_Z'], first_objects['Mr'], color='lightgrey')\n",
    "plt.scatter (df.reindex(tentative_detections.index)['SPEC_Z'], df.reindex(tentative_detections.index)['Mr'])\n",
    "plt.ylim(-10,-24)"
   ]
  },
  {
   "cell_type": "code",
   "execution_count": 66,
   "metadata": {},
   "outputs": [
    {
     "data": {
      "text/plain": [
       "'subpoena_rusticate chiral_creaking barking_aircraft corroboration_cryptographically west_bountiful testability_scuttles flown_certainly scalability_genitalia drives_trivia cistern_territorially reverentially_schnapps yawn_middleoftheroad baccarat_stenography beach_keep clench_blackboards concoct_blacksmiths escudo_rapidly downsized_cornets evolutionary_thebes contacting_rate spit_likened taming_lls television_fraction boyfriend_refiling beautiful_altars futilely_knits gagging_stiffener enciphering_transponder deluging_trophy upkeep_transposed sloughed_coasting destroying_transaction'"
      ]
     },
     "execution_count": 66,
     "metadata": {},
     "output_type": "execute_result"
    }
   ],
   "source": [
    "' '.join(df.reindex(tentative_detections.index).query('cm_logmstar<9.').index)"
   ]
  },
  {
   "cell_type": "code",
   "execution_count": 64,
   "metadata": {},
   "outputs": [
    {
     "data": {
      "text/plain": [
       "OBJID          904746060000001390\n",
       "RA                     172.311096\n",
       "DEC                     25.731057\n",
       "REMOVE                          0\n",
       "is_galaxy                    True\n",
       "                      ...        \n",
       "Kg                      -0.028724\n",
       "Kr                       0.048046\n",
       "Mz                     -18.308893\n",
       "Kz                       0.011657\n",
       "cm_logmstar              8.787929\n",
       "Name: concoct_blacksmiths, Length: 111, dtype: object"
      ]
     },
     "execution_count": 64,
     "metadata": {},
     "output_type": "execute_result"
    }
   ],
   "source": [
    "lin"
   ]
  },
  {
   "cell_type": "code",
   "execution_count": null,
   "metadata": {},
   "outputs": [],
   "source": []
  }
 ],
 "metadata": {
  "kernelspec": {
   "display_name": "Python 3 (ipykernel)",
   "language": "python",
   "name": "python3"
  },
  "language_info": {
   "codemirror_mode": {
    "name": "ipython",
    "version": 3
   },
   "file_extension": ".py",
   "mimetype": "text/x-python",
   "name": "python",
   "nbconvert_exporter": "python",
   "pygments_lexer": "ipython3",
   "version": "3.10.6"
  }
 },
 "nbformat": 4,
 "nbformat_minor": 4
}
