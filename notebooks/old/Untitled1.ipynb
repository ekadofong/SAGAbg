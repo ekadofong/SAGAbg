{
 "cells": [
  {
   "cell_type": "markdown",
   "id": "d0b5973f-dee7-4b99-844b-7404517a646e",
   "metadata": {},
   "source": [
    "# Go from OBJIDs to human-readable names"
   ]
  },
  {
   "cell_type": "code",
   "execution_count": 201,
   "id": "36374953-ff92-4c5d-8290-20a70a55ecc3",
   "metadata": {},
   "outputs": [],
   "source": [
    "import numpy as np\n",
    "import matplotlib.pyplot as plt\n",
    "import SAGA \n",
    "import namer"
   ]
  },
  {
   "cell_type": "code",
   "execution_count": 2,
   "id": "cbf12e4d-aaa3-4e42-bdd4-3cf962218486",
   "metadata": {},
   "outputs": [
    {
     "name": "stdout",
     "output_type": "stream",
     "text": [
      "SAGA `shared_dir` set to /Users/kadofong/DropBox/SAGA/\n",
      "SAGA `local_dir`  set to ../local_data/\n"
     ]
    }
   ],
   "source": [
    "# SET UP SAGA STUFF\n",
    "dropbox_directory = '/Users/kadofong/DropBox/SAGA/'\n",
    "saga = SAGA.QuickStart(local_dir='../local_data/',\\\n",
    "                       shared_dir=dropbox_directory)\n"
   ]
  },
  {
   "cell_type": "code",
   "execution_count": 4,
   "id": "7be20633-ffbd-4dd4-a617-6331b8f99455",
   "metadata": {},
   "outputs": [],
   "source": [
    "saga.database[\"combined_base\"].remote.path = \"https://drive.google.com/uc?export=download&id=1WnGUfDCZwXEUsy4zgGFR1ez3ZE5DFtsB&confirm=t&uuid=d0f82ed0-6db5-4ca0-bb8f-6c54d44a17db\"\n",
    "saga.database[\"combined_base\"].download(overwrite=False)\n",
    "base = saga.object_catalog.load_combined_base_catalog()\n"
   ]
  },
  {
   "cell_type": "code",
   "execution_count": 215,
   "id": "12edf657-fa77-49e7-83ea-9e511b5364db",
   "metadata": {},
   "outputs": [],
   "source": [
    "word_list = open('../local_data/naming/wordlist.10000', 'r').read().splitlines()\n",
    "wordcount = len(word_list)"
   ]
  },
  {
   "cell_type": "code",
   "execution_count": 216,
   "id": "a3254c07-5fd7-4970-b912-ac0f31161d13",
   "metadata": {},
   "outputs": [
    {
     "name": "stdout",
     "output_type": "stream",
     "text": [
      "There are 449232 galaxies in the SAGA target catalog\n"
     ]
    }
   ],
   "source": [
    "print(f'There are {len(base)} galaxies in the SAGA target catalog')"
   ]
  },
  {
   "cell_type": "code",
   "execution_count": null,
   "id": "399be325-0f9a-49e0-8e39-c1161f21a154",
   "metadata": {},
   "outputs": [],
   "source": []
  },
  {
   "cell_type": "code",
   "execution_count": 210,
   "id": "71e7541c-5468-4369-8040-233104fb9eff",
   "metadata": {},
   "outputs": [],
   "source": [
    "hostnumber = [int(str(x)[:8]) for x in base['OBJID']]\n",
    "hostindices = [ x % wordcount for x in hostnumber ]\n",
    "hostsuffix = [ sum([int(w) for w in str(x)]) for x in hostnumber ]\n",
    "hostwords = [ word_list[x] + \"_\" + word_list[y] for x,y in zip(hostindices,hostsuffix)]"
   ]
  },
  {
   "cell_type": "code",
   "execution_count": 211,
   "id": "da342e64-0f52-4f65-8f8c-53b67601c959",
   "metadata": {},
   "outputs": [],
   "source": [
    "galnumbers = [ int(str(x)[8:]) for x in base['OBJID'] ]\n",
    "galindices = [ x % wordcount for x in galnumbers ] \n",
    "galwords = [ word_list[x] for x in galindices ]"
   ]
  },
  {
   "cell_type": "code",
   "execution_count": 212,
   "id": "2efcc928-9eff-404b-b63b-55d2be57fcc3",
   "metadata": {},
   "outputs": [
    {
     "ename": "AssertionError",
     "evalue": "",
     "output_type": "error",
     "traceback": [
      "\u001b[0;31m---------------------------------------------------------------------------\u001b[0m",
      "\u001b[0;31mAssertionError\u001b[0m                            Traceback (most recent call last)",
      "Input \u001b[0;32mIn [212]\u001b[0m, in \u001b[0;36m<cell line: 1>\u001b[0;34m()\u001b[0m\n\u001b[0;32m----> 1\u001b[0m \u001b[38;5;28;01massert\u001b[39;00m \u001b[38;5;28mlen\u001b[39m(\u001b[38;5;28mset\u001b[39m(hostnumber)) \u001b[38;5;241m==\u001b[39m \u001b[38;5;28mlen\u001b[39m(\u001b[38;5;28mset\u001b[39m(hostwords))\n",
      "\u001b[0;31mAssertionError\u001b[0m: "
     ]
    }
   ],
   "source": [
    "assert len(set(hostnumber)) == len(set(hostwords))"
   ]
  },
  {
   "cell_type": "code",
   "execution_count": 161,
   "id": "201e1d9c-e7c1-4b9a-8eb9-ec35ebbf9f8d",
   "metadata": {},
   "outputs": [],
   "source": [
    "target_wordidentifier = np.asarray([ x + \"_\" + y for x,y in zip(hostwords, galwords) ])"
   ]
  },
  {
   "cell_type": "code",
   "execution_count": 191,
   "id": "b2d400d3-d27c-4057-9171-7c189fa1ac37",
   "metadata": {},
   "outputs": [],
   "source": [
    "ids = np.array([base['OBJID'], target_wordidentifier], dtype=str).T"
   ]
  },
  {
   "cell_type": "code",
   "execution_count": 196,
   "id": "f7278c30-8ae5-4a69-a0ea-e5f2c82cc7cc",
   "metadata": {},
   "outputs": [],
   "source": [
    "assert len(set(ids[:,0])) == len(set(ids[:,1]))"
   ]
  },
  {
   "cell_type": "code",
   "execution_count": 199,
   "id": "3948c675-1280-433a-955c-a830a48dcb41",
   "metadata": {},
   "outputs": [],
   "source": [
    "np.savetxt('../local_data/naming/names.txt', ids, fmt='%s')"
   ]
  },
  {
   "cell_type": "markdown",
   "id": "d277ec2e-88cf-4f43-9997-19807e784ff7",
   "metadata": {},
   "source": [
    "### Attempt 2 ... because the 100,000 word lists has some WORDS"
   ]
  },
  {
   "cell_type": "code",
   "execution_count": 233,
   "id": "64a6d832-0492-4bd1-9af9-5926734d1c13",
   "metadata": {},
   "outputs": [],
   "source": [
    "word_list = np.array(open('../local_data/naming/corncob_lowercase.txt', 'r').read().splitlines())\n",
    "wordcount = len(word_list)"
   ]
  },
  {
   "cell_type": "code",
   "execution_count": 236,
   "id": "1084a0d7-f5e5-47e3-add5-d0ce41cfc4ba",
   "metadata": {},
   "outputs": [],
   "source": [
    "names = []\n",
    "while len(names) < len(base):\n",
    "    first = word_list[np.random.randint(0,wordcount, len(base))]\n",
    "    second = word_list[np.random.randint(0,wordcount, len(base))]\n",
    "    full = [ f'{x}_{y}' for x,y in zip(first,second)]\n",
    "    names.extend(set(full))\n",
    "    names = list(set(names))\n",
    "names = names[:len(base)]"
   ]
  },
  {
   "cell_type": "code",
   "execution_count": 237,
   "id": "57e6c4af-d802-49df-9e61-8f41eecd66e5",
   "metadata": {},
   "outputs": [],
   "source": [
    "ids = np.array([base['OBJID'], names], dtype=str).T\n",
    "np.savetxt('../local_data/naming/names.txt', ids, fmt='%s')"
   ]
  }
 ],
 "metadata": {
  "kernelspec": {
   "display_name": "Python 3 (ipykernel)",
   "language": "python",
   "name": "python3"
  },
  "language_info": {
   "codemirror_mode": {
    "name": "ipython",
    "version": 3
   },
   "file_extension": ".py",
   "mimetype": "text/x-python",
   "name": "python",
   "nbconvert_exporter": "python",
   "pygments_lexer": "ipython3",
   "version": "3.10.4"
  }
 },
 "nbformat": 4,
 "nbformat_minor": 5
}
