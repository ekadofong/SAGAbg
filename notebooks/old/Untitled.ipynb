{
 "cells": [
  {
   "cell_type": "code",
   "execution_count": 1,
   "id": "eb62950f-529c-48f7-9005-4e1c98d38823",
   "metadata": {},
   "outputs": [],
   "source": [
    "%load_ext autoreload\n",
    "%autoreload 2"
   ]
  },
  {
   "cell_type": "code",
   "execution_count": 3,
   "id": "fa56a85c-9dac-402d-ab51-355cb7e2eece",
   "metadata": {},
   "outputs": [],
   "source": [
    "import numpy as np\n",
    "from matplotlib import patches\n",
    "import matplotlib.pyplot as plt\n",
    "from astropy import cosmology\n",
    "from astropy.io import fits\n",
    "from astropy import table\n",
    "import SAGA\n",
    "from SAGAbg.utils import calc_kcor, functional_forms"
   ]
  },
  {
   "cell_type": "code",
   "execution_count": 4,
   "id": "87b12e21-66fa-4342-b92a-e32e1f50f19d",
   "metadata": {},
   "outputs": [
    {
     "name": "stdout",
     "output_type": "stream",
     "text": [
      "SAGA `shared_dir` set to /Users/kadofong/work/surveys/saga/notebooks\n",
      "SAGA `local_dir`  set to ../local_data/\n"
     ]
    },
    {
     "data": {
      "text/plain": [
       "218845"
      ]
     },
     "execution_count": 4,
     "metadata": {},
     "output_type": "execute_result"
    }
   ],
   "source": [
    "saga = SAGA.QuickStart(local_dir='../local_data/')\n",
    "#'/path/to/saga/dropbox/folder', '/path/to/saga/local/folder')\n",
    "\n",
    "saga.database[\"combined_base\"].remote.path = \"https://drive.google.com/uc?export=download&id=1WnGUfDCZwXEUsy4zgGFR1ez3ZE5DFtsB&confirm=t&uuid=d0f82ed0-6db5-4ca0-bb8f-6c54d44a17db\"\n",
    "\n",
    "saga.database[\"combined_base\"].download(overwrite=False)\n",
    "\n",
    "base = saga.object_catalog.load_combined_base_catalog()\n",
    "base = saga.host_catalog.construct_host_query(\"paper3\").filter(base)\n",
    "\n",
    "cleaner = (base['REMOVE']==0)&base['is_galaxy']&(base['g_mag']<30.)&(base['r_mag']<30.)#&(base['ZQUALITY']>=3)\n",
    "clean = base[cleaner]\n",
    "\n",
    "clean['selection'] = 0\n",
    "cuts = SAGA.objects.cuts\n",
    "SAGA.utils.fill_values_by_query(clean, cuts.main_targeting_cuts, {'selection':3})\n",
    "SAGA.utils.fill_values_by_query(clean, cuts.paper1_targeting_cut&~cuts.main_targeting_cuts, {'selection':2})\n",
    "SAGA.utils.fill_values_by_query(clean, ~cuts.main_targeting_cuts&~cuts.paper1_targeting_cut, {'selection':1})\n",
    "#clean = clean.to_pandas ()"
   ]
  },
  {
   "cell_type": "code",
   "execution_count": 9,
   "id": "7ead8a11-8f97-45ae-8e23-31e253794edf",
   "metadata": {},
   "outputs": [],
   "source": [
    "has_halpha = np.isfinite(clean['EW_Halpha'])"
   ]
  },
  {
   "cell_type": "code",
   "execution_count": 11,
   "id": "5629c66f-dcab-4940-8dac-ab70ab5e0667",
   "metadata": {},
   "outputs": [
    {
     "data": {
      "text/plain": [
       "(array([  4.,  11.,  31.,  63.,  77.,  61., 102.,  50.,  17.,   2.]),\n",
       " array([0.00406118, 0.00476226, 0.00546335, 0.00616444, 0.00686553,\n",
       "        0.00756662, 0.0082677 , 0.00896879, 0.00966988, 0.01037097,\n",
       "        0.01107205], dtype=float32),\n",
       " <BarContainer object of 10 artists>)"
      ]
     },
     "execution_count": 11,
     "metadata": {},
     "output_type": "execute_result"
    },
    {
     "data": {
      "image/png": "[encoded data removed]",
      "text/plain": [
       "<Figure size 640x480 with 1 Axes>"
      ]
     },
     "metadata": {},
     "output_type": "display_data"
    }
   ],
   "source": [
    "plt.hist(clean[has_halpha]['SPEC_Z'])"
   ]
  },
  {
   "cell_type": "code",
   "execution_count": null,
   "id": "d8ba7b3f-6398-4ea8-baab-93465bde7f6d",
   "metadata": {},
   "outputs": [],
   "source": []
  }
 ],
 "metadata": {
  "kernelspec": {
   "display_name": "Python 3 (ipykernel)",
   "language": "python",
   "name": "python3"
  },
  "language_info": {
   "codemirror_mode": {
    "name": "ipython",
    "version": 3
   },
   "file_extension": ".py",
   "mimetype": "text/x-python",
   "name": "python",
   "nbconvert_exporter": "python",
   "pygments_lexer": "ipython3",
   "version": "3.10.4"
  }
 },
 "nbformat": 4,
 "nbformat_minor": 5
}
