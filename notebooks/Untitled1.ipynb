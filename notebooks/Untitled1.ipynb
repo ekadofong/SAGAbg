{
 "cells": [
  {
   "cell_type": "code",
   "execution_count": 1,
   "id": "08488165-e59c-4a6d-8138-2981717fc69f",
   "metadata": {},
   "outputs": [],
   "source": [
    "%load_ext autoreload\n",
    "%autoreload 2"
   ]
  },
  {
   "cell_type": "code",
   "execution_count": 34,
   "id": "8cf6ead6-3f13-43ac-901d-5e56385689b0",
   "metadata": {},
   "outputs": [],
   "source": [
    "import os\n",
    "import glob\n",
    "import numpy as np\n",
    "import matplotlib.pyplot as plt"
   ]
  },
  {
   "cell_type": "code",
   "execution_count": 47,
   "id": "c2494898-9461-4411-a8f4-ddc9b9d129ca",
   "metadata": {},
   "outputs": [],
   "source": [
    "slist = np.array(glob.glob('../figures/exploration/line_fits/fit_*txt'))\n",
    "indices = np.array([ os.path.basename(x).split('.')[0].split('fit_')[1] for x in slist])"
   ]
  },
  {
   "cell_type": "code",
   "execution_count": 59,
   "id": "58d38fcd-8f7c-4a29-b979-10d71071b0b1",
   "metadata": {},
   "outputs": [
    {
     "data": {
      "text/plain": [
       "array([2.02453932])"
      ]
     },
     "execution_count": 59,
     "metadata": {},
     "output_type": "execute_result"
    }
   ],
   "source": [
    "linebloc[np.in1d(indices, 'straitjackets_landlady'),0, 4]"
   ]
  },
  {
   "cell_type": "code",
   "execution_count": 9,
   "id": "b31122a8-f612-4be4-998c-3c96b8720598",
   "metadata": {},
   "outputs": [],
   "source": [
    "linebloc = np.zeros([len(slist), 3, 7])\n",
    "for findex, filename in enumerate(slist):\n",
    "    arr = np.genfromtxt(filename)\n",
    "    linebloc[findex] = arr"
   ]
  },
  {
   "cell_type": "code",
   "execution_count": 21,
   "id": "599c4dae-ae92-401e-86e3-f01ccd676669",
   "metadata": {},
   "outputs": [],
   "source": [
    "ew = linebloc[:,:,0] / linebloc[:,:,1]\n",
    "snr = linebloc[:,:,2] / linebloc[:,:,6]"
   ]
  },
  {
   "cell_type": "code",
   "execution_count": 71,
   "id": "03a3e8c3-9891-49ff-963f-046a05a36dde",
   "metadata": {},
   "outputs": [],
   "source": [
    "realdet = (snr[:,0]>1.)&(linebloc[:,0,4]>2.)&(ew[:,0]>0.)"
   ]
  },
  {
   "cell_type": "code",
   "execution_count": 77,
   "id": "691da162-54d9-4f6c-84dd-9bb6b3f1527c",
   "metadata": {},
   "outputs": [
    {
     "data": {
      "text/plain": [
       "5"
      ]
     },
     "execution_count": 77,
     "metadata": {},
     "output_type": "execute_result"
    }
   ],
   "source": [
    "realdet.sum()"
   ]
  },
  {
   "cell_type": "code",
   "execution_count": 72,
   "id": "a84bb8b6-2b2e-47a6-813a-77b028b0a541",
   "metadata": {},
   "outputs": [
    {
     "data": {
      "text/plain": [
       "array([2.79229606, 2.40838313, 2.31155378, 2.52025353, 2.02453932])"
      ]
     },
     "execution_count": 72,
     "metadata": {},
     "output_type": "execute_result"
    }
   ],
   "source": [
    "linebloc[realdet,0,4]"
   ]
  },
  {
   "cell_type": "code",
   "execution_count": 73,
   "id": "e52894f1-dff1-4ab7-8c4c-3c087d2366c7",
   "metadata": {},
   "outputs": [
    {
     "data": {
      "text/plain": [
       "array([2.04967138, 2.1921812 , 1.50695416, 1.95147706, 2.00815782])"
      ]
     },
     "execution_count": 73,
     "metadata": {},
     "output_type": "execute_result"
    }
   ],
   "source": [
    "linebloc[realdet,-1,4]# - linebloc[realdet,0,4]"
   ]
  },
  {
   "cell_type": "code",
   "execution_count": 76,
   "id": "07a4472d-f6bc-4f20-b029-e04d17fa9382",
   "metadata": {
    "tags": []
   },
   "outputs": [
    {
     "data": {
      "text/plain": [
       "'fit_sterner_inoculated.png fit_perspicuous_grownup.png fit_harshly_punctually.png fit_patchup_excused.png fit_straitjackets_landlady.png'"
      ]
     },
     "execution_count": 76,
     "metadata": {},
     "output_type": "execute_result"
    }
   ],
   "source": [
    "' '.join([ os.path.basename(x).replace('.txt','.png') for x in slist[realdet]])"
   ]
  },
  {
   "cell_type": "code",
   "execution_count": 67,
   "id": "09509f5c-9824-4c26-a681-81b86e62897a",
   "metadata": {
    "tags": []
   },
   "outputs": [
    {
     "data": {
      "text/plain": [
       "<matplotlib.colorbar.Colorbar at 0x14cd40e80>"
      ]
     },
     "execution_count": 67,
     "metadata": {},
     "output_type": "execute_result"
    },
    {
     "data": {
      "image/png": "[encoded data removed]",
      "text/plain": [
       "<Figure size 640x480 with 2 Axes>"
      ]
     },
     "metadata": {},
     "output_type": "display_data"
    }
   ],
   "source": [
    "plt.scatter ( linebloc[:,0,0], linebloc[:,0,4] - linebloc[:,-1,4], c=realdet)\n",
    "\n",
    "plt.colorbar()"
   ]
  },
  {
   "cell_type": "code",
   "execution_count": null,
   "id": "13eb9089-8758-4e65-9b0d-a5a5f553ca34",
   "metadata": {},
   "outputs": [],
   "source": []
  }
 ],
 "metadata": {
  "kernelspec": {
   "display_name": "Python 3 (ipykernel)",
   "language": "python",
   "name": "python3"
  },
  "language_info": {
   "codemirror_mode": {
    "name": "ipython",
    "version": 3
   },
   "file_extension": ".py",
   "mimetype": "text/x-python",
   "name": "python",
   "nbconvert_exporter": "python",
   "pygments_lexer": "ipython3",
   "version": "3.10.6"
  }
 },
 "nbformat": 4,
 "nbformat_minor": 5
}
